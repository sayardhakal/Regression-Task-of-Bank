{
 "cells": [
  {
   "cell_type": "markdown",
   "id": "04018aa6",
   "metadata": {},
   "source": [
    "<h1> 2059797_sayardhakal"
   ]
  },
  {
   "cell_type": "markdown",
   "id": "ec0f013d",
   "metadata": {},
   "source": [
    "# Regresssion Task"
   ]
  },
  {
   "cell_type": "markdown",
   "id": "52384903",
   "metadata": {},
   "source": [
    "Regression is a set of machine learning methods that allow us to predict a continuous outcome variable (y) based on the value of one or multiple predictor variables (x). Briefly, the goal of regression model is to build a mathematical equation that defines y as a function of the x variables.\n",
    "\n",
    "The  equation of best fit line for multiple linear regression is given by the following mathematical expression <br>\n",
    "                                <b> &emsp;y = b1x1 + b2x2 + … + bnxn + c.<br> </b>\n",
    "                                 &emsp;where x1,x2 represent independent variables and y the dependent variables and b the bias terms.\n",
    "\n",
    "  "
   ]
  },
  {
   "cell_type": "markdown",
   "id": "a9c175fd",
   "metadata": {},
   "source": [
    "# Implementation of Regression"
   ]
  },
  {
   "cell_type": "markdown",
   "id": "333ccfca",
   "metadata": {},
   "source": []
  },
  {
   "cell_type": "markdown",
   "id": "e18546d3",
   "metadata": {},
   "source": [
    "This is a bank.csv files which have 17 columns. The column have their name as  age, job, marital, education, default, balance, housing, loan, contact, day , month, duration, campaign, pdays, previous, poutcome and y. Below is the implementation of the multiple linear regression on a dataset used to predict the balance based on the given features.The follwoing regression model has been created with the use of the optimization algorithm gradient descent with the learning rate of 0.0001 over 10000 iterations.I have choosed balance as a target and remaining all as a features(age, job,  marital, education, default, housing, loan, contact, day , month, duration, campaign, pdays, previous, poutcome and y).<br>\n",
    "\n",
    "I have scatter the plot for actual value and predicted value of y and also plot the graph for iterated costs function."
   ]
  },
  {
   "cell_type": "code",
   "execution_count": 4,
   "id": "69843f10",
   "metadata": {},
   "outputs": [],
   "source": [
    "#importing some important python libraries \n",
    "import pandas as pd\n",
    "import numpy as np"
   ]
  },
  {
   "cell_type": "code",
   "execution_count": 5,
   "id": "a9e299d7",
   "metadata": {},
   "outputs": [
    {
     "data": {
      "text/html": [
       "<div>\n",
       "<style scoped>\n",
       "    .dataframe tbody tr th:only-of-type {\n",
       "        vertical-align: middle;\n",
       "    }\n",
       "\n",
       "    .dataframe tbody tr th {\n",
       "        vertical-align: top;\n",
       "    }\n",
       "\n",
       "    .dataframe thead th {\n",
       "        text-align: right;\n",
       "    }\n",
       "</style>\n",
       "<table border=\"1\" class=\"dataframe\">\n",
       "  <thead>\n",
       "    <tr style=\"text-align: right;\">\n",
       "      <th></th>\n",
       "      <th>age</th>\n",
       "      <th>job</th>\n",
       "      <th>marital</th>\n",
       "      <th>education</th>\n",
       "      <th>default</th>\n",
       "      <th>balance</th>\n",
       "      <th>housing</th>\n",
       "      <th>loan</th>\n",
       "      <th>contact</th>\n",
       "      <th>day</th>\n",
       "      <th>month</th>\n",
       "      <th>duration</th>\n",
       "      <th>campaign</th>\n",
       "      <th>pdays</th>\n",
       "      <th>previous</th>\n",
       "      <th>poutcome</th>\n",
       "      <th>y</th>\n",
       "    </tr>\n",
       "  </thead>\n",
       "  <tbody>\n",
       "    <tr>\n",
       "      <th>0</th>\n",
       "      <td>58</td>\n",
       "      <td>management</td>\n",
       "      <td>married</td>\n",
       "      <td>tertiary</td>\n",
       "      <td>no</td>\n",
       "      <td>2143</td>\n",
       "      <td>yes</td>\n",
       "      <td>no</td>\n",
       "      <td>unknown</td>\n",
       "      <td>5</td>\n",
       "      <td>may</td>\n",
       "      <td>261</td>\n",
       "      <td>1</td>\n",
       "      <td>-1</td>\n",
       "      <td>0</td>\n",
       "      <td>unknown</td>\n",
       "      <td>no</td>\n",
       "    </tr>\n",
       "    <tr>\n",
       "      <th>1</th>\n",
       "      <td>44</td>\n",
       "      <td>technician</td>\n",
       "      <td>single</td>\n",
       "      <td>secondary</td>\n",
       "      <td>no</td>\n",
       "      <td>29</td>\n",
       "      <td>yes</td>\n",
       "      <td>no</td>\n",
       "      <td>unknown</td>\n",
       "      <td>5</td>\n",
       "      <td>may</td>\n",
       "      <td>151</td>\n",
       "      <td>1</td>\n",
       "      <td>-1</td>\n",
       "      <td>0</td>\n",
       "      <td>unknown</td>\n",
       "      <td>no</td>\n",
       "    </tr>\n",
       "    <tr>\n",
       "      <th>2</th>\n",
       "      <td>33</td>\n",
       "      <td>entrepreneur</td>\n",
       "      <td>married</td>\n",
       "      <td>secondary</td>\n",
       "      <td>no</td>\n",
       "      <td>2</td>\n",
       "      <td>yes</td>\n",
       "      <td>yes</td>\n",
       "      <td>unknown</td>\n",
       "      <td>5</td>\n",
       "      <td>may</td>\n",
       "      <td>76</td>\n",
       "      <td>1</td>\n",
       "      <td>-1</td>\n",
       "      <td>0</td>\n",
       "      <td>unknown</td>\n",
       "      <td>no</td>\n",
       "    </tr>\n",
       "    <tr>\n",
       "      <th>3</th>\n",
       "      <td>47</td>\n",
       "      <td>blue-collar</td>\n",
       "      <td>married</td>\n",
       "      <td>unknown</td>\n",
       "      <td>no</td>\n",
       "      <td>1506</td>\n",
       "      <td>yes</td>\n",
       "      <td>no</td>\n",
       "      <td>unknown</td>\n",
       "      <td>5</td>\n",
       "      <td>may</td>\n",
       "      <td>92</td>\n",
       "      <td>1</td>\n",
       "      <td>-1</td>\n",
       "      <td>0</td>\n",
       "      <td>unknown</td>\n",
       "      <td>no</td>\n",
       "    </tr>\n",
       "    <tr>\n",
       "      <th>4</th>\n",
       "      <td>33</td>\n",
       "      <td>unknown</td>\n",
       "      <td>single</td>\n",
       "      <td>unknown</td>\n",
       "      <td>no</td>\n",
       "      <td>1</td>\n",
       "      <td>no</td>\n",
       "      <td>no</td>\n",
       "      <td>unknown</td>\n",
       "      <td>5</td>\n",
       "      <td>may</td>\n",
       "      <td>198</td>\n",
       "      <td>1</td>\n",
       "      <td>-1</td>\n",
       "      <td>0</td>\n",
       "      <td>unknown</td>\n",
       "      <td>no</td>\n",
       "    </tr>\n",
       "  </tbody>\n",
       "</table>\n",
       "</div>"
      ],
      "text/plain": [
       "   age           job  marital  education default  balance housing loan  \\\n",
       "0   58    management  married   tertiary      no     2143     yes   no   \n",
       "1   44    technician   single  secondary      no       29     yes   no   \n",
       "2   33  entrepreneur  married  secondary      no        2     yes  yes   \n",
       "3   47   blue-collar  married    unknown      no     1506     yes   no   \n",
       "4   33       unknown   single    unknown      no        1      no   no   \n",
       "\n",
       "   contact  day month  duration  campaign  pdays  previous poutcome   y  \n",
       "0  unknown    5   may       261         1     -1         0  unknown  no  \n",
       "1  unknown    5   may       151         1     -1         0  unknown  no  \n",
       "2  unknown    5   may        76         1     -1         0  unknown  no  \n",
       "3  unknown    5   may        92         1     -1         0  unknown  no  \n",
       "4  unknown    5   may       198         1     -1         0  unknown  no  "
      ]
     },
     "execution_count": 5,
     "metadata": {},
     "output_type": "execute_result"
    }
   ],
   "source": [
    "#importing the data in pandas \n",
    "#for this we have to make a variable and use read_csv format\n",
    "\n",
    "\n",
    "data = pd.read_csv('C://Users/user/Desktop/AI coursework/bank.csv')\n",
    "data.head()"
   ]
  },
  {
   "cell_type": "code",
   "execution_count": 6,
   "id": "b2407cc8",
   "metadata": {
    "scrolled": true
   },
   "outputs": [
    {
     "data": {
      "text/plain": [
       "age          0\n",
       "job          0\n",
       "marital      0\n",
       "education    0\n",
       "default      0\n",
       "balance      0\n",
       "housing      0\n",
       "loan         0\n",
       "contact      0\n",
       "day          0\n",
       "month        0\n",
       "duration     0\n",
       "campaign     0\n",
       "pdays        0\n",
       "previous     0\n",
       "poutcome     0\n",
       "y            0\n",
       "dtype: int64"
      ]
     },
     "execution_count": 6,
     "metadata": {},
     "output_type": "execute_result"
    }
   ],
   "source": [
    "#checking for null value\n",
    "data.isnull().sum()"
   ]
  },
  {
   "cell_type": "markdown",
   "id": "7825dd52",
   "metadata": {},
   "source": [
    "**from the above code, we have conclude that there is no any null value in the following respective columns.**"
   ]
  },
  {
   "cell_type": "code",
   "execution_count": 7,
   "id": "8ad50e90",
   "metadata": {},
   "outputs": [
    {
     "data": {
      "text/html": [
       "<div>\n",
       "<style scoped>\n",
       "    .dataframe tbody tr th:only-of-type {\n",
       "        vertical-align: middle;\n",
       "    }\n",
       "\n",
       "    .dataframe tbody tr th {\n",
       "        vertical-align: top;\n",
       "    }\n",
       "\n",
       "    .dataframe thead th {\n",
       "        text-align: right;\n",
       "    }\n",
       "</style>\n",
       "<table border=\"1\" class=\"dataframe\">\n",
       "  <thead>\n",
       "    <tr style=\"text-align: right;\">\n",
       "      <th></th>\n",
       "      <th>age</th>\n",
       "      <th>job</th>\n",
       "      <th>marital</th>\n",
       "      <th>education</th>\n",
       "      <th>default</th>\n",
       "      <th>balance</th>\n",
       "      <th>housing</th>\n",
       "      <th>loan</th>\n",
       "      <th>contact</th>\n",
       "      <th>day</th>\n",
       "      <th>month</th>\n",
       "      <th>duration</th>\n",
       "      <th>campaign</th>\n",
       "      <th>pdays</th>\n",
       "      <th>previous</th>\n",
       "      <th>poutcome</th>\n",
       "      <th>y</th>\n",
       "    </tr>\n",
       "  </thead>\n",
       "  <tbody>\n",
       "    <tr>\n",
       "      <th>0</th>\n",
       "      <td>40</td>\n",
       "      <td>4</td>\n",
       "      <td>1</td>\n",
       "      <td>2</td>\n",
       "      <td>0</td>\n",
       "      <td>2143</td>\n",
       "      <td>1</td>\n",
       "      <td>0</td>\n",
       "      <td>2</td>\n",
       "      <td>5</td>\n",
       "      <td>8</td>\n",
       "      <td>261</td>\n",
       "      <td>1</td>\n",
       "      <td>0</td>\n",
       "      <td>0</td>\n",
       "      <td>3</td>\n",
       "      <td>0</td>\n",
       "    </tr>\n",
       "    <tr>\n",
       "      <th>1</th>\n",
       "      <td>26</td>\n",
       "      <td>9</td>\n",
       "      <td>2</td>\n",
       "      <td>1</td>\n",
       "      <td>0</td>\n",
       "      <td>29</td>\n",
       "      <td>1</td>\n",
       "      <td>0</td>\n",
       "      <td>2</td>\n",
       "      <td>5</td>\n",
       "      <td>8</td>\n",
       "      <td>151</td>\n",
       "      <td>1</td>\n",
       "      <td>0</td>\n",
       "      <td>0</td>\n",
       "      <td>3</td>\n",
       "      <td>0</td>\n",
       "    </tr>\n",
       "    <tr>\n",
       "      <th>2</th>\n",
       "      <td>15</td>\n",
       "      <td>2</td>\n",
       "      <td>1</td>\n",
       "      <td>1</td>\n",
       "      <td>0</td>\n",
       "      <td>2</td>\n",
       "      <td>1</td>\n",
       "      <td>1</td>\n",
       "      <td>2</td>\n",
       "      <td>5</td>\n",
       "      <td>8</td>\n",
       "      <td>76</td>\n",
       "      <td>1</td>\n",
       "      <td>0</td>\n",
       "      <td>0</td>\n",
       "      <td>3</td>\n",
       "      <td>0</td>\n",
       "    </tr>\n",
       "    <tr>\n",
       "      <th>3</th>\n",
       "      <td>29</td>\n",
       "      <td>1</td>\n",
       "      <td>1</td>\n",
       "      <td>3</td>\n",
       "      <td>0</td>\n",
       "      <td>1506</td>\n",
       "      <td>1</td>\n",
       "      <td>0</td>\n",
       "      <td>2</td>\n",
       "      <td>5</td>\n",
       "      <td>8</td>\n",
       "      <td>92</td>\n",
       "      <td>1</td>\n",
       "      <td>0</td>\n",
       "      <td>0</td>\n",
       "      <td>3</td>\n",
       "      <td>0</td>\n",
       "    </tr>\n",
       "    <tr>\n",
       "      <th>4</th>\n",
       "      <td>15</td>\n",
       "      <td>11</td>\n",
       "      <td>2</td>\n",
       "      <td>3</td>\n",
       "      <td>0</td>\n",
       "      <td>1</td>\n",
       "      <td>0</td>\n",
       "      <td>0</td>\n",
       "      <td>2</td>\n",
       "      <td>5</td>\n",
       "      <td>8</td>\n",
       "      <td>198</td>\n",
       "      <td>1</td>\n",
       "      <td>0</td>\n",
       "      <td>0</td>\n",
       "      <td>3</td>\n",
       "      <td>0</td>\n",
       "    </tr>\n",
       "  </tbody>\n",
       "</table>\n",
       "</div>"
      ],
      "text/plain": [
       "   age  job  marital  education  default  balance  housing  loan  contact  \\\n",
       "0   40    4        1          2        0     2143        1     0        2   \n",
       "1   26    9        2          1        0       29        1     0        2   \n",
       "2   15    2        1          1        0        2        1     1        2   \n",
       "3   29    1        1          3        0     1506        1     0        2   \n",
       "4   15   11        2          3        0        1        0     0        2   \n",
       "\n",
       "   day  month  duration  campaign  pdays  previous  poutcome  y  \n",
       "0    5      8       261         1      0         0         3  0  \n",
       "1    5      8       151         1      0         0         3  0  \n",
       "2    5      8        76         1      0         0         3  0  \n",
       "3    5      8        92         1      0         0         3  0  \n",
       "4    5      8       198         1      0         0         3  0  "
      ]
     },
     "execution_count": 7,
     "metadata": {},
     "output_type": "execute_result"
    }
   ],
   "source": [
    "#Encoding the categorical data columns  into a nominal data\n",
    "#For this we have to import LabelEncoder from sklearn.preprocessing\n",
    "\n",
    "from sklearn.preprocessing import LabelEncoder \n",
    "le = LabelEncoder() \n",
    "df = data\n",
    "df.age = le.fit_transform(df.age)\n",
    "df.job = le.fit_transform(df.job)\n",
    "df.marital = le.fit_transform(df.marital)\n",
    "df.education = le.fit_transform(df.education)\n",
    "df.default = le.fit_transform(df.default)\n",
    "df.housing = le.fit_transform(df.housing)\n",
    "df.loan = le.fit_transform(df.loan)\n",
    "df.contact = le.fit_transform(df.contact)\n",
    "df.month = le.fit_transform(df.month)\n",
    "df.duration = le.fit_transform(df.duration)\n",
    "df.pdays = le.fit_transform(df.pdays)\n",
    "df.poutcome = le.fit_transform(df.poutcome)\n",
    "df.y  = le.fit_transform(df.y)\n",
    "\n",
    "\n",
    "#Testing the encoded columns\n",
    "\n",
    "df.head()\n",
    "\n"
   ]
  },
  {
   "cell_type": "markdown",
   "id": "ff43ce03",
   "metadata": {},
   "source": [
    "# **Data Visualization**"
   ]
  },
  {
   "cell_type": "code",
   "execution_count": 8,
   "id": "fe6fb269",
   "metadata": {},
   "outputs": [
    {
     "data": {
      "text/plain": [
       "Text(0, 0.5, 'balance')"
      ]
     },
     "execution_count": 8,
     "metadata": {},
     "output_type": "execute_result"
    },
    {
     "data": {
      "image/png": "[encoded data removed]",
      "text/plain": [
       "<Figure size 432x288 with 1 Axes>"
      ]
     },
     "metadata": {
      "needs_background": "light"
     },
     "output_type": "display_data"
    }
   ],
   "source": [
    "import matplotlib.pyplot as plt\n",
    "plt.bar(df['education'], df['balance'], width=0.4)\n",
    "plt.title('education vs balance')\n",
    "plt.xlabel('education')\n",
    "plt.ylabel('balance')"
   ]
  },
  {
   "cell_type": "markdown",
   "id": "6014a09e",
   "metadata": {},
   "source": [
    "**From above bar graph, we see that balance is mostly influence by eduction which have 2.0 .It has the balance of 100000.Tertiary eduction have more balance**"
   ]
  },
  {
   "cell_type": "code",
   "execution_count": 9,
   "id": "080b2387",
   "metadata": {},
   "outputs": [
    {
     "data": {
      "text/plain": [
       "Text(0, 0.5, 'balance')"
      ]
     },
     "execution_count": 9,
     "metadata": {},
     "output_type": "execute_result"
    },
    {
     "data": {
      "image/png": "[encoded data removed]",
      "text/plain": [
       "<Figure size 432x288 with 1 Axes>"
      ]
     },
     "metadata": {
      "needs_background": "light"
     },
     "output_type": "display_data"
    }
   ],
   "source": [
    "import matplotlib.pyplot as plt\n",
    "plt.bar(df['job'], df['balance'], width=0.4)\n",
    "plt.title('job vs balance')\n",
    "plt.xlabel('job')\n",
    "plt.ylabel('balance')"
   ]
  },
  {
   "cell_type": "markdown",
   "id": "7474e497",
   "metadata": {},
   "source": [
    "**From the above graph of job vs balance , we can cleary see that the balance is mostly influence by management that the other independent jobs.**"
   ]
  },
  {
   "cell_type": "code",
   "execution_count": 10,
   "id": "b425711a",
   "metadata": {},
   "outputs": [
    {
     "data": {
      "text/plain": [
       "Text(0, 0.5, 'balance')"
      ]
     },
     "execution_count": 10,
     "metadata": {},
     "output_type": "execute_result"
    },
    {
     "data": {
      "image/png": "[encoded data removed]",
      "text/plain": [
       "<Figure size 432x288 with 1 Axes>"
      ]
     },
     "metadata": {
      "needs_background": "light"
     },
     "output_type": "display_data"
    }
   ],
   "source": [
    "import matplotlib.pyplot as plt\n",
    "plt.bar(df['duration'], df['balance'], width=0.4)\n",
    "plt.title('duration vs balance')\n",
    "plt.xlabel('duration')\n",
    "plt.ylabel('balance')"
   ]
  },
  {
   "cell_type": "markdown",
   "id": "3ea641d3",
   "metadata": {},
   "source": [
    "**From the above graph of duration vs balance, we can clearly see that the duration which have the value 261 has the high balance then the remaining duration**"
   ]
  },
  {
   "cell_type": "code",
   "execution_count": 10,
   "id": "6e7fb48f",
   "metadata": {},
   "outputs": [
    {
     "name": "stdout",
     "output_type": "stream",
     "text": [
      "   age  job  marital  education  default  housing  loan  contact  day  month  \\\n",
      "0   40    4        1          2        0        1     0        2    5      8   \n",
      "1   26    9        2          1        0        1     0        2    5      8   \n",
      "2   15    2        1          1        0        1     1        2    5      8   \n",
      "3   29    1        1          3        0        1     0        2    5      8   \n",
      "4   15   11        2          3        0        0     0        2    5      8   \n",
      "\n",
      "   duration  campaign  pdays  previous  poutcome  y  \n",
      "0       261         1      0         0         3  0  \n",
      "1       151         1      0         0         3  0  \n",
      "2        76         1      0         0         3  0  \n",
      "3        92         1      0         0         3  0  \n",
      "4       198         1      0         0         3  0  \n",
      "0    2143\n",
      "1      29\n",
      "2       2\n",
      "3    1506\n",
      "4       1\n",
      "Name: balance, dtype: int64\n"
     ]
    }
   ],
   "source": [
    "#Now defining independent variables and dependent variables\n",
    "#For this datasets I have choosed balance as dependent variable and remaining all an independent varaible\n",
    "\n",
    "dataSet = df[['age', 'job', 'marital', 'education', 'default', 'housing', 'loan', 'contact', 'day', 'month', 'duration','campaign', 'pdays', 'previous', 'poutcome','y', 'balance']]\n",
    "\n",
    "X = dataSet.iloc[: , :16]\n",
    "Y = dataSet.iloc[: , 16]\n",
    "\n",
    "#For testing we have used head in order to display only 5 rows\n",
    "print(X.head())\n",
    "print(Y.head())"
   ]
  },
  {
   "cell_type": "code",
   "execution_count": 11,
   "id": "6ed10990",
   "metadata": {},
   "outputs": [
    {
     "name": "stdout",
     "output_type": "stream",
     "text": [
      "        age       job  marital  education  default  housing  loan  contact  \\\n",
      "0  0.526316  0.363636      0.5   0.666667      0.0      1.0   0.0      1.0   \n",
      "1  0.342105  0.818182      1.0   0.333333      0.0      1.0   0.0      1.0   \n",
      "2  0.197368  0.181818      0.5   0.333333      0.0      1.0   1.0      1.0   \n",
      "3  0.381579  0.090909      0.5   1.000000      0.0      1.0   0.0      1.0   \n",
      "4  0.197368  1.000000      1.0   1.000000      0.0      0.0   0.0      1.0   \n",
      "\n",
      "       day     month  duration  campaign  pdays  previous  poutcome    y  \n",
      "0  0.16129  0.727273  0.166031  0.015873    0.0       0.0       1.0  0.0  \n",
      "1  0.16129  0.727273  0.096056  0.015873    0.0       0.0       1.0  0.0  \n",
      "2  0.16129  0.727273  0.048346  0.015873    0.0       0.0       1.0  0.0  \n",
      "3  0.16129  0.727273  0.058524  0.015873    0.0       0.0       1.0  0.0  \n",
      "4  0.16129  0.727273  0.125954  0.015873    0.0       0.0       1.0  0.0  \n"
     ]
    }
   ],
   "source": [
    "#Then we have to preprocessing the independent variables\n",
    "\n",
    "n = len(X.columns)\n",
    "for i in range (0,n+1):\n",
    "    X.iloc[:, :i]= X.iloc[:, :i]/np.max(X.iloc[:, :i]) \n",
    "    \n",
    "# after this ,checking the normalized values\n",
    "print(X.head())"
   ]
  },
  {
   "cell_type": "code",
   "execution_count": 12,
   "id": "28c949be",
   "metadata": {},
   "outputs": [],
   "source": [
    "#Now  we are adding a coulmn for a bais term\n",
    "#The Bias term is a parameter that allows models to represent patterns that do not pass through the origin\n",
    "\n",
    "dataSet = pd.concat([pd.Series(1, index=df.index, name='00'), df], axis=1)"
   ]
  },
  {
   "cell_type": "code",
   "execution_count": 13,
   "id": "a9f8b534",
   "metadata": {},
   "outputs": [],
   "source": [
    "#Initializing the theta variables\n",
    "theta = np.array([0]*n)"
   ]
  },
  {
   "cell_type": "code",
   "execution_count": 14,
   "id": "c4e948b8",
   "metadata": {},
   "outputs": [],
   "source": [
    "#After all above steps , we have to make a function to calculate the value theta*X\n",
    "\n",
    "def hypothesis(theta,X):\n",
    "    return theta*X"
   ]
  },
  {
   "cell_type": "markdown",
   "id": "86f110f6",
   "metadata": {},
   "source": [
    "The below function evaluates accuracy of the model by calculating the Root Mean Square Errors <b>(RMSE)</b> between the actual and predicted values.RMSE has been used over MSE for evaluation as the dataset doesnot contain outliers. "
   ]
  },
  {
   "cell_type": "code",
   "execution_count": 15,
   "id": "cc00a652",
   "metadata": {},
   "outputs": [],
   "source": [
    "s = len(dataSet)\n",
    "# making a function called ComputeCost for computing the Cost Function.\n",
    "\n",
    "def ComputeCost(X,y,theta):\n",
    "    y1= hypothesis(theta,X)\n",
    "    y1=np.sum(y1,axis=1)\n",
    "    add= (np.sum(y1-y)**2/(2*s)) \n",
    "    return np.sqrt(add) # This is called RMSE"
   ]
  },
  {
   "cell_type": "code",
   "execution_count": 16,
   "id": "cccc95b8",
   "metadata": {},
   "outputs": [],
   "source": [
    "#Gradient descent (GD) is an iterative first-order optimisation algorithm used to find a local minimum/maximum of a given function.\n",
    "#defining gradient descent function.\n",
    "\n",
    "def gradientDescent(X, y, theta, alpha, i):\n",
    "    J = []  #cost function in each iterations . It is an array[]\n",
    "    k = 0\n",
    "    while k < i:\n",
    "        y1 = hypothesis(theta, X)\n",
    "        y1 = np.sum(y1, axis=1)\n",
    "        for c in range(0, n):\n",
    "            theta[c] = theta[c] - alpha*(sum((y1-y)*(X.iloc[:,c])/n))\n",
    "        j = ComputeCost(X, y, theta)\n",
    "        J.append(j)\n",
    "        k += 1\n",
    "    return J, j, theta"
   ]
  },
  {
   "cell_type": "code",
   "execution_count": 17,
   "id": "026f02d0",
   "metadata": {},
   "outputs": [],
   "source": [
    "J,j,theta = gradientDescent(X, Y,theta,0.0001,10000)"
   ]
  },
  {
   "cell_type": "code",
   "execution_count": 18,
   "id": "deb16b52",
   "metadata": {},
   "outputs": [],
   "source": [
    "#Now calculating the predicted values\n",
    "\n",
    "y_pred = hypothesis(theta, X)\n",
    "y_pred= np.sum(y_pred, axis=1)"
   ]
  },
  {
   "cell_type": "code",
   "execution_count": 19,
   "id": "b5ba4d23",
   "metadata": {},
   "outputs": [
    {
     "name": "stdout",
     "output_type": "stream",
     "text": [
      "0.03205094472250136\n"
     ]
    }
   ],
   "source": [
    "#checking the accuracy of the predictive model.\n",
    "#we are importing linearRegression in order to fit the X,Y\n",
    "#Also, we have imported r2_score which helps in resulting the accuracy.\n",
    "# 1st we made a varaible name model where the fited(X,Y) stored\n",
    "#finally for the accuracy value of predicted model we print the model.score\n",
    "\n",
    "from sklearn.linear_model import LinearRegression\n",
    "from sklearn.metrics import r2_score\n",
    "model = LinearRegression().fit(X,Y)\n",
    "print(model.score(X,Y))"
   ]
  },
  {
   "cell_type": "code",
   "execution_count": 20,
   "id": "a6c05038",
   "metadata": {},
   "outputs": [
    {
     "data": {
      "image/png": "[encoded data removed]",
      "text/plain": [
       "<Figure size 432x288 with 1 Axes>"
      ]
     },
     "metadata": {
      "needs_background": "light"
     },
     "output_type": "display_data"
    }
   ],
   "source": [
    "#For the easy visualization of the predicted values and actual values we have plotted the scatter plot for predicted and actual values of y.\n",
    "#for plot we import matplotlib.pyplot\n",
    "\n",
    "import matplotlib.pyplot as plt\n",
    "plt.figure()\n",
    "plt.scatter(x=list(range(0,s)),y= Y,color='green')    \n",
    "plt.scatter(x=list(range(0,s)), y=y_pred, color='yellow')\n",
    "plt.show()"
   ]
  },
  {
   "cell_type": "code",
   "execution_count": 21,
   "id": "4ee0b68f",
   "metadata": {},
   "outputs": [
    {
     "data": {
      "image/png": "[encoded data removed]",
      "text/plain": [
       "<Figure size 432x288 with 1 Axes>"
      ]
     },
     "metadata": {
      "needs_background": "light"
     },
     "output_type": "display_data"
    }
   ],
   "source": [
    "#Aslo we have been plotting the graph for iterated cost functions.\n",
    "plt.figure()\n",
    "plt.scatter(x=list(range(0,10000)), y=J)\n",
    "plt.ylabel('COSTS!')\n",
    "plt.xlabel('ITERATIONS!')\n",
    "plt.show()"
   ]
  },
  {
   "cell_type": "markdown",
   "id": "3d8143d8",
   "metadata": {},
   "source": [
    "From the above graph , we can conclude that the RMSE erros between the predicted values and actual values  are going in a uniformly variation at the start of some iterations and after some iteration they are spilted. "
   ]
  }
 ],
 "metadata": {
  "kernelspec": {
   "display_name": "Python 3 (ipykernel)",
   "language": "python",
   "name": "python3"
  },
  "language_info": {
   "codemirror_mode": {
    "name": "ipython",
    "version": 3
   },
   "file_extension": ".py",
   "mimetype": "text/x-python",
   "name": "python",
   "nbconvert_exporter": "python",
   "pygments_lexer": "ipython3",
   "version": "3.8.12"
  }
 },
 "nbformat": 4,
 "nbformat_minor": 5
}
